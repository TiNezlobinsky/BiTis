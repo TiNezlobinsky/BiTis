{
 "cells": [
  {
   "cell_type": "code",
   "execution_count": 10,
   "metadata": {},
   "outputs": [
    {
     "name": "stdout",
     "output_type": "stream",
     "text": [
      "(0008,0008) Image Type                          CS: ['ORIGINAL', 'PRIMARY', 'OTHER']\n",
      "(0008,0016) SOP Class UID                       UI: MR Image Storage\n",
      "(0008,0018) SOP Instance UID                    UI: 1.2.826.0.1.3680043.8.2073.2504669497.20028.1672328618.2132\n",
      "(0008,0020) Study Date                          DA: '20171213'\n",
      "(0008,0022) Acquisition Date                    DA: '20171213'\n",
      "(0008,0030) Study Time                          TM: '173627'\n",
      "(0008,0032) Acquisition Time                    TM: '173627'\n",
      "(0008,0050) Accession Number                    SH: 'UNKNOWN'\n",
      "(0008,0060) Modality                            CS: 'MR'\n",
      "(0008,0070) Manufacturer                        LO: 'GE MEDICAL SYSTEMS'\n",
      "(0008,0080) Institution Name                    LO: 'SKEJBY SYGEHUS'\n",
      "(0008,1030) Study Description                   LO: 'UNKNOWN'\n",
      "(0008,103E) Series Description                  LO: 'ORIG Fast SPGR 0.3x0.3x0.3'\n",
      "(0008,1070) Operators' Name                     PN: 'Operator'\n",
      "(0008,1090) Manufacturer's Model Name           LO: 'DISCOVERY MR750'\n",
      "(0010,0010) Patient's Name                      PN: 'Zep^G'\n",
      "(0010,0020) Patient ID                          LO: '7'\n",
      "(0010,0030) Patient's Birth Date                DA: 'UNKNOWN'\n",
      "(0010,0040) Patient's Sex                       CS: 'U'\n",
      "(0010,1020) Patient's Size                      DS: '0.000000'\n",
      "(0010,1030) Patient's Weight                    DS: '13.610000'\n",
      "(0018,0020) Scanning Sequence                   CS: 'GR'\n",
      "(0018,0021) Sequence Variant                    CS: ['SS', 'SP', 'SK']\n",
      "(0018,0022) Scan Options                        CS: ['FAST_GEMS', 'PFF']\n",
      "(0018,0023) MR Acquisition Type                 CS: '2D'\n",
      "(0018,0050) Slice Thickness                     DS: '0.300000'\n",
      "(0018,0080) Repetition Time                     DS: '7.052000'\n",
      "(0018,0081) Echo Time                           DS: '2.796000'\n",
      "(0018,0082) Inversion Time                      DS: '0.000000'\n",
      "(0018,0083) Number of Averages                  DS: '3.000000'\n",
      "(0018,0087) Magnetic Field Strength             DS: '3.000000'\n",
      "(0018,1020) Software Versions                   LO: ['27', 'LX', 'MR Software release:DV26.0_R01_1725.a']\n",
      "(0018,1030) Protocol Name                       LO: 'Exvivo Heart 071217'\n",
      "(0018,1060) Trigger Time                        DS: '2.796000'\n",
      "(0018,1088) Heart Rate                          IS: '0'\n",
      "(0018,1250) Receive Coil Name                   SH: 'GEM Flex Small'\n",
      "(0018,1310) Acquisition Matrix                  US: [0, 512, 512, 0]\n",
      "(0018,1314) Flip Angle                          DS: '15.000000'\n",
      "(0020,000D) Study Instance UID                  UI: 1.2.840.113619.6.408.264819642414246612436001738983219603224\n",
      "(0020,000E) Series Instance UID                 UI: 1.2.840.113619.2.408.4738430.14804506.22730.1512721209.344\n",
      "(0020,0010) Study ID                            SH: '57'\n",
      "(0020,0011) Series Number                       IS: '40005'\n",
      "(0020,0012) Acquisition Number                  IS: '1'\n",
      "(0020,0013) Instance Number                     IS: '100'\n",
      "(0020,0032) Image Position (Patient)            DS: [-64.984200, -135.093000, -57.112900]\n",
      "(0020,0037) Image Orientation (Patient)         DS: [1.000000, 0.000000, 0.000000, 0.000000, 1.000000, 0.000000]\n",
      "(0020,1041) Slice Location                      DS: '-57.112873'\n",
      "(0020,4000) Image Comments                      LT: Array of 38 elements\n",
      "(0028,0002) Samples per Pixel                   US: 1\n",
      "(0028,0004) Photometric Interpretation          CS: 'MONOCHROME2'\n",
      "(0028,0006) Planar Configuration                US: 0\n",
      "(0028,0010) Rows                                US: 512\n",
      "(0028,0011) Columns                             US: 512\n",
      "(0028,0030) Pixel Spacing                       DS: [0.312500, 0.312500]\n",
      "(0028,0100) Bits Allocated                      US: 16\n",
      "(0028,0101) Bits Stored                         US: 16\n",
      "(0028,0102) High Bit                            US: 15\n",
      "(0028,0103) Pixel Representation                US: 1\n",
      "(0028,1050) Window Center                       DS: '1.000000'\n",
      "(0028,1051) Window Width                        DS: '2.000000'\n",
      "(0028,1052) Rescale Intercept                   DS: '0.000000'\n",
      "(0028,1053) Rescale Slope                       DS: '1.000000'\n",
      "(7FE0,0010) Pixel Data                          OW: Array of 524288 elements\n"
     ]
    },
    {
     "name": "stderr",
     "output_type": "stream",
     "text": [
      "/opt/miniconda3/lib/python3.12/site-packages/pydicom/valuerep.py:440: UserWarning: Invalid value for VR IS: '0.000000'. Please see <https://dicom.nema.org/medical/dicom/current/output/html/part05.html#table_6.2-1> for allowed values for each VR.\n",
      "  warn_and_log(msg)\n"
     ]
    }
   ],
   "source": [
    "# load dicom file\n",
    "from pathlib import Path\n",
    "import matplotlib.pyplot as plt\n",
    "import pydicom\n",
    "import pydicom.uid as uid\n",
    "\n",
    "\n",
    "\n",
    "path = Path(\n",
    "    \"/Users/arstanbek/Library/CloudStorage/OneDrive-UGent/2 Organized exports/Zep7/MRI/\"\n",
    ")\n",
    "filename = \"SER_40000_sl0100_ph0001.dcm\"\n",
    "\n",
    "\n",
    "def load_dicom(path, filename):\n",
    "    dcm = pydicom.dcmread(path / filename, force=True)\n",
    "    return dcm\n",
    "\n",
    "\n",
    "dcm = load_dicom(path, filename)\n",
    "\n",
    "print(dcm)"
   ]
  },
  {
   "cell_type": "code",
   "execution_count": null,
   "metadata": {},
   "outputs": [],
   "source": []
  },
  {
   "cell_type": "code",
   "execution_count": 3,
   "metadata": {},
   "outputs": [
    {
     "name": "stderr",
     "output_type": "stream",
     "text": [
      "/opt/miniconda3/lib/python3.12/site-packages/pydicom/valuerep.py:440: UserWarning: Invalid value for VR IS: '0.000000'. Please see <https://dicom.nema.org/medical/dicom/current/output/html/part05.html#table_6.2-1> for allowed values for each VR.\n",
      "  warn_and_log(msg)\n"
     ]
    },
    {
     "data": {
      "text/plain": [
       "(0008,0008) Image Type                          CS: ['ORIGINAL', 'PRIMARY', 'OTHER']\n",
       "(0008,0016) SOP Class UID                       UI: MR Image Storage\n",
       "(0008,0018) SOP Instance UID                    UI: 1.2.826.0.1.3680043.8.2073.2504669497.9264.1671101338.1\n",
       "(0008,0020) Study Date                          DA: '20171212'\n",
       "(0008,0022) Acquisition Date                    DA: '20171212'\n",
       "(0008,0030) Study Time                          TM: '211756'\n",
       "(0008,0032) Acquisition Time                    TM: '211756'\n",
       "(0008,0050) Accession Number                    SH: 'UNKNOWN'\n",
       "(0008,0060) Modality                            CS: 'MR'\n",
       "(0008,0070) Manufacturer                        LO: 'GE MEDICAL SYSTEMS'\n",
       "(0008,0080) Institution Name                    LO: 'SKEJBY SYGEHUS'\n",
       "(0008,1030) Study Description                   LO: 'UNKNOWN'\n",
       "(0008,103E) Series Description                  LO: 'ORIG Fast SPGR 0.3x0.3x0.3'\n",
       "(0008,1070) Operators' Name                     PN: 'Operator'\n",
       "(0008,1090) Manufacturer's Model Name           LO: 'DISCOVERY MR750'\n",
       "(0010,0010) Patient's Name                      PN: 'Zep^F'\n",
       "(0010,0020) Patient ID                          LO: '6'\n",
       "(0010,0030) Patient's Birth Date                DA: 'UNKNOWN'\n",
       "(0010,0040) Patient's Sex                       CS: 'U'\n",
       "(0010,1020) Patient's Size                      DS: '0.000000'\n",
       "(0010,1030) Patient's Weight                    DS: '13.610000'\n",
       "(0018,0020) Scanning Sequence                   CS: 'GR'\n",
       "(0018,0021) Sequence Variant                    CS: ['SS', 'SP', 'SK']\n",
       "(0018,0022) Scan Options                        CS: ['FAST_GEMS', 'PFF']\n",
       "(0018,0023) MR Acquisition Type                 CS: '2D'\n",
       "(0018,0050) Slice Thickness                     DS: '0.300000'\n",
       "(0018,0080) Repetition Time                     DS: '7.052000'\n",
       "(0018,0081) Echo Time                           DS: '2.796000'\n",
       "(0018,0082) Inversion Time                      DS: '0.000000'\n",
       "(0018,0083) Number of Averages                  DS: '3.000000'\n",
       "(0018,0087) Magnetic Field Strength             DS: '3.000000'\n",
       "(0018,1020) Software Versions                   LO: ['27', 'LX', 'MR Software release:DV26.0_R01_1725.a']\n",
       "(0018,1030) Protocol Name                       LO: 'Exvivo Heart 071217'\n",
       "(0018,1060) Trigger Time                        DS: '2.796000'\n",
       "(0018,1088) Heart Rate                          IS: '0'\n",
       "(0018,1250) Receive Coil Name                   SH: 'GEM Flex Medium'\n",
       "(0018,1310) Acquisition Matrix                  US: [0, 512, 512, 0]\n",
       "(0018,1314) Flip Angle                          DS: '15.000000'\n",
       "(0020,000D) Study Instance UID                  UI: 1.2.840.113619.6.408.266598782222725479284717236837745561926\n",
       "(0020,000E) Series Instance UID                 UI: 1.2.840.113619.2.408.4738430.14804506.22730.1512721208.391\n",
       "(0020,0010) Study ID                            SH: '50'\n",
       "(0020,0011) Series Number                       IS: '40004'\n",
       "(0020,0012) Acquisition Number                  IS: '1'\n",
       "(0020,0013) Instance Number                     IS: '1'\n",
       "(0020,0032) Image Position (Patient)            DS: [-88.500900, -130.250000, -79.703400]\n",
       "(0020,0037) Image Orientation (Patient)         DS: [1.000000, 0.000000, 0.000000, 0.000000, 1.000000, 0.000000]\n",
       "(0020,1041) Slice Location                      DS: '-79.703384'\n",
       "(0020,4000) Image Comments                      LT: Array of 35 elements\n",
       "(0028,0002) Samples per Pixel                   US: 1\n",
       "(0028,0004) Photometric Interpretation          CS: 'MONOCHROME2'\n",
       "(0028,0006) Planar Configuration                US: 0\n",
       "(0028,0010) Rows                                US: 512\n",
       "(0028,0011) Columns                             US: 512\n",
       "(0028,0030) Pixel Spacing                       DS: [0.312500, 0.312500]\n",
       "(0028,0100) Bits Allocated                      US: 16\n",
       "(0028,0101) Bits Stored                         US: 16\n",
       "(0028,0102) High Bit                            US: 15\n",
       "(0028,0103) Pixel Representation                US: 1\n",
       "(0028,1050) Window Center                       DS: '1.000000'\n",
       "(0028,1051) Window Width                        DS: '2.000000'\n",
       "(0028,1052) Rescale Intercept                   DS: '0.000000'\n",
       "(0028,1053) Rescale Slope                       DS: '1.000000'\n",
       "(7FE0,0010) Pixel Data                          OW: Array of 524288 elements"
      ]
     },
     "execution_count": 3,
     "metadata": {},
     "output_type": "execute_result"
    }
   ],
   "source": [
    "dcm"
   ]
  },
  {
   "cell_type": "code",
   "execution_count": null,
   "metadata": {},
   "outputs": [
    {
     "data": {
      "image/png": "[encoded data removed]",
      "text/plain": [
       "<Figure size 640x480 with 1 Axes>"
      ]
     },
     "metadata": {},
     "output_type": "display_data"
    }
   ],
   "source": []
  }
 ],
 "metadata": {
  "kernelspec": {
   "display_name": "base",
   "language": "python",
   "name": "python3"
  },
  "language_info": {
   "codemirror_mode": {
    "name": "ipython",
    "version": 3
   },
   "file_extension": ".py",
   "mimetype": "text/x-python",
   "name": "python",
   "nbconvert_exporter": "python",
   "pygments_lexer": "ipython3",
   "version": "3.12.6"
  }
 },
 "nbformat": 4,
 "nbformat_minor": 2
}
